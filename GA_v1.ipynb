{
 "cells": [
  {
   "cell_type": "markdown",
   "metadata": {},
   "source": [
    "# Genetic Algorithm version 1"
   ]
  },
  {
   "cell_type": "markdown",
   "metadata": {},
   "source": [
    "The code start from loading up the neccessary libraries"
   ]
  },
  {
   "cell_type": "code",
   "execution_count": 1,
   "metadata": {},
   "outputs": [],
   "source": [
    "import numpy as np\n",
    "import matplotlib.pyplot as plt\n",
    "import copy\n",
    "from tqdm import tqdm\n",
    "from operator import itemgetter\n",
    "import copy\n",
    "import sys, os\n",
    "import pandas as pd"
   ]
  },
  {
   "cell_type": "markdown",
   "metadata": {},
   "source": [
    "The class itself represented here"
   ]
  },
  {
   "cell_type": "code",
   "execution_count": 11,
   "metadata": {},
   "outputs": [],
   "source": [
    "class GenAlg():\n",
    "    def __init__(self,genes,varmin,varmax,npop,nchild):\n",
    "        self.genes = genes\n",
    "        self.varmin = varmin\n",
    "        self.varmax = varmax\n",
    "        self.npop = npop\n",
    "        self.nchild = nchild\n",
    "        self.population = {}\n",
    "\n",
    "        for i in range(npop):\n",
    "            self.population[i] = {'choromosome': None, 'cost': None}\n",
    "        bestsol = copy.deepcopy(self.population)\n",
    "        self.bestsol_cost = np.inf\n",
    "        for i in range(npop):\n",
    "            self.population[i]['choromosome'] = np.random.uniform(varmin, varmax,genes)\n",
    "            self.population[i]['cost'] = self.costfunc(self.population[i]['choromosome'])\n",
    "            if self.population[i]['cost'] < self.bestsol_cost:                                  \n",
    "                self.bestsol = copy.deepcopy(self.population[i])\n",
    "        self.bs = [self.bestsol]\n",
    "    def costfunc(self,x):\n",
    "        return np.linalg.norm(x - np.array([5,5]))\n",
    "    \n",
    "############ BLOCK PARENTS CHOICE ############\n",
    "    def parents(self,npop):\n",
    "        q = np.random.permutation(npop)\n",
    "        p1 = self.population[q[0]]\n",
    "        p2 = self.population[q[1]]\n",
    "        return (p1,p2)\n",
    "    def parents_prob(self):\n",
    "        n = np.arange(len(self.population))\n",
    "        cost = np.array([])\n",
    "        for i in n:\n",
    "            cost = np.append(cost,[self.population[i]['cost']])\n",
    "        total_cost = np.sum(cost)\n",
    "        if total_cost != 0:\n",
    "            probs = cost/np.median(cost)\n",
    "        c = np.cumsum(probs)\n",
    "        r = c*np.random.rand()\n",
    "        ind = np.argwhere(r <= c)\n",
    "        return ind[0][0]\n",
    "                      \n",
    "############ BLOCK CHILDREN MAKING ############                    \n",
    "    def crossover(self,p1,p2, mu, sigma):\n",
    "        childs = []\n",
    "        for _ in range(self.nchild):\n",
    "            alpha = np.random.uniform(0,1,*(p1['choromosome'].shape))\n",
    "            c = {'choromosome': None, 'cost': None}\n",
    "            c['choromosome'] = alpha*p1['choromosome'] + (1 - alpha)*p2['choromosome']\n",
    "            c = self.mutation(c, mu, sigma)\n",
    "            c['cost'] = self.costfunc(c['choromosome'])\n",
    "            childs.append(c)\n",
    "        return childs\n",
    "    def crossover_uniform(self,p1,p2,mu,sigma):\n",
    "        childs = []\n",
    "        for _ in range(self.nchild):\n",
    "            coin = np.random.randint(2,size = self.genes) \n",
    "            ind = np.argwhere(coin == 0).ravel()\n",
    "            c = copy.deepcopy(p1)\n",
    "            \n",
    "            c['choromosome'][ind] = p2['choromosome'][ind]\n",
    "            c = self.mutation(c, mu, sigma)\n",
    "            c['cost'] = self.costfunc(c['choromosome'])\n",
    "            childs.append(c)\n",
    "        return childs       \n",
    "    def crossover_one(self,p1,p2,mu,sigma):\n",
    "        childs = []\n",
    "        for _ in range(self.nchild):\n",
    "            c = copy.deepcopy(p1)\n",
    "            middle = int(len(c['choromosome'])/2)\n",
    "            ind = np.arange(middle,len(c['choromosome']))\n",
    "            c['choromosome'][ind] = p2['choromosome'][ind]\n",
    "            c = self.mutation(c, mu, sigma)\n",
    "            c['cost'] = self.costfunc(c['choromosome'])\n",
    "            childs.append(c)\n",
    "        return childs    \n",
    "    def mutation(self,c,sigma,mu):\n",
    "        y = copy.deepcopy(c)\n",
    "        flag = np.random.rand(*(c['choromosome'].shape)) <= mu\n",
    "        ind = np.argwhere(flag)\n",
    "        y['choromosome'][ind] += sigma*np.random.randn(*ind.shape)\n",
    "        \n",
    "        return y\n",
    "    \n",
    "############ BLOCK AUXILIARILY ############ \n",
    "    def sort(self,arr):\n",
    "        n = len(arr)\n",
    "        for i in range(n-1):\n",
    "            for j in range(0, n-i-1):\n",
    "                if arr[j]['cost'] > arr[j+1]['cost'] :\n",
    "                     arr[j], arr[j+1] = arr[j+1], arr[j]\n",
    "        return arr\n",
    "\n",
    "############ BLOCK MAIN ############ \n",
    "        \n",
    "    def initiliazition(self,mu, sigma,maxit,num_children, parents = 'Dist', cross_over = 'Prob', iter_show =True):\n",
    "        self.bestcost = np.empty(maxit+1)\n",
    "         \n",
    "        for it in range(maxit+1):        \n",
    "            gen_children = []\n",
    "            for _ in range(num_children//2):\n",
    "                \n",
    "                if parents == 'Dist':\n",
    "                    p1 = self.population[self.parents_prob()]\n",
    "                    p2 = self.population[self.parents_prob()]\n",
    "                elif parents == 'Chance':\n",
    "                    p1, p2 = self.parents(self.npop)\n",
    "                if cross_over == 'Prob':\n",
    "                    children = self.crossover(p1,p2,mu,sigma)\n",
    "                elif cross_over == 'Uniform':\n",
    "                    children = self.crossover_uniform(p1,p2,mu,sigma)\n",
    "                elif cross_over == 'One':\n",
    "                    children = self.crossover_one(p1,p2,mu,sigma)\n",
    "                else:\n",
    "                    print('Error')\n",
    "                    return\n",
    "                \n",
    "                for ch in children: \n",
    "                    self.population[len(self.population)] = ch\n",
    "                    if ch['cost'] < self.bestsol_cost: \n",
    "                        self.bestsol_cost = ch['cost']\n",
    "                gen_children.extend(children)\n",
    "            self.population = self.sort(self.population) \n",
    "            self.bestcost[it] = self.bestsol_cost\n",
    "            self.bs.append(self.population[0])\n",
    "            if iter_show == True: \n",
    "                print('Generation {}: Best Cost = {}'. format(it, self.bestcost[it]))\n",
    "            else: \n",
    "                pass\n",
    "                  \n",
    "        out = self.population\n",
    "        Bestsol = self.population[0]\n",
    "        bestcost = self.bestcost\n",
    "        bestsols = self.bs\n",
    "        return (out, Bestsol, bestcost,bestsols)"
   ]
  },
  {
   "cell_type": "code",
   "execution_count": 12,
   "metadata": {},
   "outputs": [
    {
     "name": "stdout",
     "output_type": "stream",
     "text": [
      "Error\n",
      "--- 0.001252889633178711 seconds ---\n"
     ]
    }
   ],
   "source": [
    "import time\n",
    "start_time = time.time()\n",
    "ga = GenAlg(2,-10,10,2,3)\n",
    "result = ga.initiliazition(0.2,4,100,10,cross_over = 'd')\n",
    "\n",
    "print(\"--- %s seconds ---\" % (time.time() - start_time))"
   ]
  },
  {
   "cell_type": "code",
   "execution_count": 38,
   "metadata": {},
   "outputs": [],
   "source": [
    "x = []\n",
    "y = []\n",
    "for i in result[3]:\n",
    "    x.append(i['choromosome'][0])\n",
    "    y.append(i['choromosome'][1])"
   ]
  },
  {
   "cell_type": "code",
   "execution_count": 39,
   "metadata": {},
   "outputs": [
    {
     "name": "stderr",
     "output_type": "stream",
     "text": [
      "MovieWriter ffmpeg unavailable; using Pillow instead.\n"
     ]
    },
    {
     "data": {
      "image/png": "[encoded data removed]",
      "text/plain": [
       "<Figure size 432x288 with 1 Axes>"
      ]
     },
     "metadata": {
      "needs_background": "light"
     },
     "output_type": "display_data"
    }
   ],
   "source": [
    "import numpy as np\n",
    "import matplotlib.pyplot as plt\n",
    "import matplotlib.animation as animation\n",
    "\n",
    "x = np.array(x)\n",
    "y = np.array(y)\n",
    "xmaxx = max(x)\n",
    "xminn = min(x)\n",
    "ymaxx = max(y)\n",
    "yminn = min(y)\n",
    "\n",
    "\n",
    "fig, ax = plt.subplots()\n",
    "ax.hlines(y=5,color = 'r', xmin=xminn -1, xmax=xmaxx+1)\n",
    "ax.vlines(x=5,color='r', ymin=yminn -1, ymax=ymaxx+1)\n",
    "ax.set_title('Convergence of GA')\n",
    "ax.set_xlabel('X')\n",
    "ax.set_ylabel('Y')\n",
    "line, = ax.plot(x, y, color='k')\n",
    "\n",
    "def update(num, x, y, line):\n",
    "    line.set_data(x[:num], y[:num])\n",
    "    line.axes.axis([xminn -1, xmaxx+1, yminn -1, ymaxx+1])\n",
    "    return line,\n",
    "\n",
    "ani = animation.FuncAnimation(fig, update, len(x), fargs=[x, y, line],\n",
    "                              interval=500,repeat = True)\n",
    "ani.save('test.gif')\n",
    "plt.show()"
   ]
  },
  {
   "cell_type": "markdown",
   "metadata": {},
   "source": [
    "## Test for different methods of parents choice"
   ]
  },
  {
   "cell_type": "markdown",
   "metadata": {},
   "source": [
    "### Uniform"
   ]
  },
  {
   "cell_type": "code",
   "execution_count": 31,
   "metadata": {},
   "outputs": [
    {
     "name": "stderr",
     "output_type": "stream",
     "text": [
      "100%|██████████| 100/100 [10:52<00:00,  6.52s/it]\n"
     ]
    }
   ],
   "source": [
    "error = []\n",
    "for i in tqdm(range(100)):\n",
    "    ga = GenAlg(2,-10,10,2,3)\n",
    "    result = ga.initiliazition(0.2,3,100,10,iter_show = False )\n",
    "    error.append(result[1]['cost'])"
   ]
  },
  {
   "cell_type": "code",
   "execution_count": 21,
   "metadata": {},
   "outputs": [
    {
     "data": {
      "text/plain": [
       "0.008667052945822217"
      ]
     },
     "execution_count": 21,
     "metadata": {},
     "output_type": "execute_result"
    }
   ],
   "source": [
    "np.median(error)"
   ]
  },
  {
   "cell_type": "code",
   "execution_count": 7,
   "metadata": {},
   "outputs": [
    {
     "name": "stderr",
     "output_type": "stream",
     "text": [
      "100%|██████████| 50/50 [02:23<00:00,  2.86s/it]\n"
     ]
    }
   ],
   "source": [
    "error_ch = []\n",
    "for i in tqdm(range(50)):\n",
    "    ga = GenAlg(2,-10,10,2,3)\n",
    "    result = ga.initiliazition(0.2,3,100,10,iter_show = False,parents = 'Chance' )\n",
    "    error_ch.append(result[1]['cost'])"
   ]
  },
  {
   "cell_type": "code",
   "execution_count": 9,
   "metadata": {},
   "outputs": [
    {
     "data": {
      "text/plain": [
       "0.04803680912340149"
      ]
     },
     "execution_count": 9,
     "metadata": {},
     "output_type": "execute_result"
    }
   ],
   "source": [
    "np.mean(error_ch)"
   ]
  },
  {
   "cell_type": "code",
   "execution_count": null,
   "metadata": {},
   "outputs": [
    {
     "name": "stderr",
     "output_type": "stream",
     "text": [
      "  2%|▏         | 1/50 [00:12<10:19, 12.65s/it]"
     ]
    }
   ],
   "source": [
    "error_ch = []\n",
    "for i in tqdm(range(50)):\n",
    "    ga = GenAlg(2,-10,10,2,3)\n",
    "    result = ga.initiliazition(0.2,3,100,10,iter_show = False,cross_over = 'Uniform' )\n",
    "    error_ch.append(result[1]['cost'])"
   ]
  },
  {
   "cell_type": "code",
   "execution_count": 12,
   "metadata": {},
   "outputs": [],
   "source": []
  },
  {
   "cell_type": "code",
   "execution_count": 16,
   "metadata": {},
   "outputs": [
    {
     "data": {
      "text/plain": [
       "0       NaN\n",
       "1       NaN\n",
       "2       NaN\n",
       "3       NaN\n",
       "4       NaN\n",
       "       ... \n",
       "1455    NaN\n",
       "1456    NaN\n",
       "1457    NaN\n",
       "1458    NaN\n",
       "1459    NaN\n",
       "Name: Alley, Length: 1369, dtype: object"
      ]
     },
     "execution_count": 16,
     "metadata": {},
     "output_type": "execute_result"
    }
   ],
   "source": []
  },
  {
   "cell_type": "code",
   "execution_count": null,
   "metadata": {},
   "outputs": [],
   "source": []
  }
 ],
 "metadata": {
  "kernelspec": {
   "display_name": "Python 3",
   "language": "python",
   "name": "python3"
  },
  "language_info": {
   "codemirror_mode": {
    "name": "ipython",
    "version": 3
   },
   "file_extension": ".py",
   "mimetype": "text/x-python",
   "name": "python",
   "nbconvert_exporter": "python",
   "pygments_lexer": "ipython3",
   "version": "3.8.5"
  }
 },
 "nbformat": 4,
 "nbformat_minor": 4
}
